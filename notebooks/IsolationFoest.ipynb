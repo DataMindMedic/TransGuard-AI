{
 "cells": [
  {
   "cell_type": "code",
   "execution_count": 2,
   "id": "34de30c7-e20d-4f7b-b079-f6bd2653b9e6",
   "metadata": {},
   "outputs": [
    {
     "name": "stdout",
     "output_type": "stream",
     "text": [
      "Confusion Matrix:\n",
      "[[283942    373]\n",
      " [   380    112]]\n",
      "\n",
      "Classification Report:\n",
      "              precision    recall  f1-score   support\n",
      "\n",
      "           0     0.9987    0.9987    0.9987    284315\n",
      "           1     0.2309    0.2276    0.2293       492\n",
      "\n",
      "    accuracy                         0.9974    284807\n",
      "   macro avg     0.6148    0.6132    0.6140    284807\n",
      "weighted avg     0.9973    0.9974    0.9973    284807\n",
      "\n",
      "\n",
      "ROC AUC: 0.6132\n"
     ]
    }
   ],
   "source": [
    "import pandas as pd\n",
    "import numpy as np\n",
    "from sklearn.ensemble import IsolationForest\n",
    "from sklearn.metrics import classification_report, roc_auc_score, confusion_matrix\n",
    "\n",
    "# Load processed data\n",
    "data_path = \"/Users/michealomotosho/Documents/EDUCATION DOCUMENTS/DATA SCIENCE SELF PROJECT/TransGuard-AI/data/Processed/transactions_cleaned.csv\"\n",
    "\n",
    "df = pd.read_csv(data_path)\n",
    "\n",
    "# Separate features and target\n",
    "X = df.drop(\"Class\", axis=1)\n",
    "y = df[\"Class\"]\n",
    "\n",
    "# Fit Isolation Forest\n",
    "iso_model = IsolationForest(\n",
    "    n_estimators=100,\n",
    "    max_samples='auto',\n",
    "    contamination=0.0017,  # estimate fraction of fraud in data (adjust as needed)\n",
    "    random_state=42\n",
    ")\n",
    "\n",
    "iso_model.fit(X)\n",
    "\n",
    "# Predict anomalies\n",
    "# Isolation Forest returns:\n",
    "#   -1 → anomaly\n",
    "#    1 → normal\n",
    "\n",
    "y_pred = iso_model.predict(X)\n",
    "# Convert to 0/1 labels\n",
    "y_pred_binary = np.where(y_pred == -1, 1, 0)\n",
    "\n",
    "# Metrics\n",
    "print(\"Confusion Matrix:\")\n",
    "print(confusion_matrix(y, y_pred_binary))\n",
    "\n",
    "print(\"\\nClassification Report:\")\n",
    "print(classification_report(y, y_pred_binary, digits=4))\n",
    "\n",
    "# Compute ROC AUC\n",
    "roc_auc = roc_auc_score(y, y_pred_binary)\n",
    "print(f\"\\nROC AUC: {roc_auc:.4f}\")\n"
   ]
  },
  {
   "cell_type": "code",
   "execution_count": null,
   "id": "46d22521-41f3-4bc5-a92e-e354fcc079ce",
   "metadata": {},
   "outputs": [],
   "source": []
  }
 ],
 "metadata": {
  "kernelspec": {
   "display_name": "Python [conda env:base] *",
   "language": "python",
   "name": "conda-base-py"
  },
  "language_info": {
   "codemirror_mode": {
    "name": "ipython",
    "version": 3
   },
   "file_extension": ".py",
   "mimetype": "text/x-python",
   "name": "python",
   "nbconvert_exporter": "python",
   "pygments_lexer": "ipython3",
   "version": "3.12.7"
  }
 },
 "nbformat": 4,
 "nbformat_minor": 5
}
