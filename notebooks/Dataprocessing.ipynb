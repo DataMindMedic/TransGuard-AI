{
 "cells": [
  {
   "cell_type": "code",
   "execution_count": 2,
   "id": "3541776d-3470-4556-9b31-02d50be2497d",
   "metadata": {},
   "outputs": [
    {
     "name": "stdout",
     "output_type": "stream",
     "text": [
      "✅ Loaded dataset with shape: (284807, 31)\n",
      "\n",
      "🔍 Missing values per column:\n",
      "Time      0\n",
      "V1        0\n",
      "V2        0\n",
      "V3        0\n",
      "V4        0\n",
      "V5        0\n",
      "V6        0\n",
      "V7        0\n",
      "V8        0\n",
      "V9        0\n",
      "V10       0\n",
      "V11       0\n",
      "V12       0\n",
      "V13       0\n",
      "V14       0\n",
      "V15       0\n",
      "V16       0\n",
      "V17       0\n",
      "V18       0\n",
      "V19       0\n",
      "V20       0\n",
      "V21       0\n",
      "V22       0\n",
      "V23       0\n",
      "V24       0\n",
      "V25       0\n",
      "V26       0\n",
      "V27       0\n",
      "V28       0\n",
      "Amount    0\n",
      "Class     0\n",
      "dtype: int64\n",
      "\n",
      "✅ No categorical columns found to encode.\n",
      "\n",
      "💾 Cleaned data saved to: /Users/michealomotosho/Documents/EDUCATION DOCUMENTS/DATA SCIENCE SELF PROJECT/TransGuard-AI/data/Processed/transactions_cleaned.csv\n"
     ]
    }
   ],
   "source": [
    "\n",
    "\n",
    "\n",
    "import pandas as pd\n",
    "from sklearn.preprocessing import StandardScaler\n",
    "import os\n",
    "\n",
    "# File paths\n",
    "input_path = \"/Users/michealomotosho/Documents/EDUCATION DOCUMENTS/DATA SCIENCE SELF PROJECT/TransGuard-AI/data/raw/creditcard.csv\"\n",
    "output_dir = \"/Users/michealomotosho/Documents/EDUCATION DOCUMENTS/DATA SCIENCE SELF PROJECT/TransGuard-AI/data/Processed\"\n",
    "output_file = os.path.join(output_dir, \"transactions_cleaned.csv\")\n",
    "\n",
    "# Step 1: Load the dataset\n",
    "df = pd.read_csv(input_path)\n",
    "print(f\"✅ Loaded dataset with shape: {df.shape}\")\n",
    "\n",
    "# Step 2: Check for missing values\n",
    "missing_values = df.isnull().sum()\n",
    "print(\"\\n🔍 Missing values per column:\")\n",
    "print(missing_values)\n",
    "\n",
    "# Step 3: Normalize numerical features\n",
    "# We'll scale 'Amount' and optionally 'Time' (if it exists)\n",
    "scaler = StandardScaler()\n",
    "\n",
    "if 'Amount' in df.columns:\n",
    "    df['Amount_scaled'] = scaler.fit_transform(df[['Amount']])\n",
    "if 'Time' in df.columns:\n",
    "    df['Time_scaled'] = scaler.fit_transform(df[['Time']])\n",
    "\n",
    "# Step 4: Encode categorical features (if any)\n",
    "categorical_cols = df.select_dtypes(include='object').columns.tolist()\n",
    "if categorical_cols:\n",
    "    print(f\"\\n🛠 Encoding categorical columns: {categorical_cols}\")\n",
    "    df = pd.get_dummies(df, columns=categorical_cols, drop_first=True)\n",
    "else:\n",
    "    print(\"\\n✅ No categorical columns found to encode.\")\n",
    "\n",
    "# Step 5: Save processed data\n",
    "os.makedirs(output_dir, exist_ok=True)\n",
    "df.to_csv(output_file, index=False)\n",
    "print(f\"\\n💾 Cleaned data saved to: {output_file}\")\n"
   ]
  },
  {
   "cell_type": "code",
   "execution_count": null,
   "id": "c2bca57d-5d93-428d-af2a-02ed9dac57df",
   "metadata": {},
   "outputs": [],
   "source": []
  },
  {
   "cell_type": "code",
   "execution_count": null,
   "id": "671daae0-fc74-42c3-a694-be2fc13c5acf",
   "metadata": {},
   "outputs": [],
   "source": []
  },
  {
   "cell_type": "code",
   "execution_count": null,
   "id": "4427e46d-a21f-4ede-ab20-7e796a8e0cc0",
   "metadata": {},
   "outputs": [],
   "source": []
  }
 ],
 "metadata": {
  "kernelspec": {
   "display_name": "Python [conda env:base] *",
   "language": "python",
   "name": "conda-base-py"
  },
  "language_info": {
   "codemirror_mode": {
    "name": "ipython",
    "version": 3
   },
   "file_extension": ".py",
   "mimetype": "text/x-python",
   "name": "python",
   "nbconvert_exporter": "python",
   "pygments_lexer": "ipython3",
   "version": "3.12.7"
  }
 },
 "nbformat": 4,
 "nbformat_minor": 5
}
